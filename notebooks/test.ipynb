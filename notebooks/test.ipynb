{
 "cells": [
  {
   "cell_type": "code",
   "execution_count": 1,
   "id": "af566646",
   "metadata": {},
   "outputs": [
    {
     "name": "stdout",
     "output_type": "stream",
     "text": [
      "/home/mahoraga/master/projects/multi-agent-system\n"
     ]
    }
   ],
   "source": [
    "# Change the current working directory to the project root\n",
    "%cd .."
   ]
  },
  {
   "cell_type": "code",
   "execution_count": 2,
   "id": "4a287625",
   "metadata": {},
   "outputs": [
    {
     "name": "stderr",
     "output_type": "stream",
     "text": [
      "USER_AGENT environment variable not set, consider setting it to identify your requests.\n"
     ]
    },
    {
     "data": {
      "text/plain": [
       "True"
      ]
     },
     "execution_count": 2,
     "metadata": {},
     "output_type": "execute_result"
    }
   ],
   "source": [
    "from graph.node_analyst import node_analyst\n",
    "from graph.node_critic import node_critic\n",
    "from graph.node_presenter import node_presenter\n",
    "from graph.node_researcher import node_researcher\n",
    "from graph.node_scout import node_scout\n",
    "from graph.router_scout import router_scout\n",
    "from graph.state import AgentState\n",
    "from langgraph.graph import END, StateGraph\n",
    "from dotenv import load_dotenv\n",
    "import os\n",
    "from rich.markdown import Markdown\n",
    "load_dotenv()"
   ]
  },
  {
   "cell_type": "code",
   "execution_count": 3,
   "id": "abc37a69",
   "metadata": {},
   "outputs": [],
   "source": [
    "workflow = StateGraph(AgentState)\n",
    "workflow.add_node(\"analyst\", node_analyst)\n",
    "workflow.add_node(\"scout\", node_scout)\n",
    "workflow.add_node(\"researcher\", node_researcher)\n",
    "workflow.add_node(\"critic\", node_critic)\n",
    "workflow.add_node(\"presenter\", node_presenter)\n",
    "workflow.set_entry_point(\"analyst\")\n",
    "workflow.add_edge(\"analyst\", \"scout\")\n",
    "workflow.add_edge(\"researcher\", \"critic\")\n",
    "workflow.add_edge(\"critic\", \"presenter\")\n",
    "workflow.add_edge(\"presenter\", END)\n",
    "workflow.add_conditional_edges(\n",
    "    \"scout\",\n",
    "    router_scout,\n",
    "    { \"researcher\": \"researcher\", \"presenter\": \"presenter\" }\n",
    ")\n",
    "app = workflow.compile()"
   ]
  },
  {
   "cell_type": "code",
   "execution_count": 4,
   "id": "3e029579",
   "metadata": {},
   "outputs": [],
   "source": [
    "def save_graph(graph, xray=False, save_path=\"./figs/agent_graph.png\"):\n",
    "    try:\n",
    "        graph_png = graph.get_graph(xray=xray).draw_mermaid_png()\n",
    "        with open(save_path, \"wb\") as f:\n",
    "            f.write(graph_png)\n",
    "    except Exception as e:\n",
    "        import nest_asyncio\n",
    "        nest_asyncio.apply()\n",
    "        from langchain_core.runnables.graph import MermaidDrawMethod\n",
    "        graph_png = graph.get_graph().draw_mermaid_png(draw_method=MermaidDrawMethod.PYPPETEER)\n",
    "        with open(save_path, \"wb\") as f:\n",
    "            f.write(graph_png)"
   ]
  },
  {
   "cell_type": "code",
   "execution_count": 5,
   "id": "db8edd0f",
   "metadata": {},
   "outputs": [],
   "source": [
    "save_graph(app, xray=True, save_path=\"./figs/agent_graph_xray.png\")"
   ]
  },
  {
   "cell_type": "code",
   "execution_count": 6,
   "id": "902575fe",
   "metadata": {},
   "outputs": [
    {
     "name": "stdout",
     "output_type": "stream",
     "text": [
      "Node Analyst activated\n"
     ]
    },
    {
     "name": "stderr",
     "output_type": "stream",
     "text": [
      "/home/mahoraga/master/projects/multi-agent-system/graph/agent.py:29: LangChainDeprecationWarning: Please see the migration guide at: https://python.langchain.com/docs/versions/migrating_memory/\n",
      "  self.memory = memory or ConversationBufferMemory(\n"
     ]
    },
    {
     "name": "stdout",
     "output_type": "stream",
     "text": [
      "--- Analyst Planning Iteration 1 ---\n",
      "Plan: <think>\n",
      "Okay, let's tackle this task. The user wants a step-by-step plan to extract conceptual keywords from an academic text, specifically focusing on thematic keywords like \"Distributed Systems\" or \n",
      "...\n",
      "--- Analyst Reasoning Iteration 1 ---\n",
      "Reasoning: <think>\n",
      "Okay, let's tackle this step by step. The user wants me to identify conference keywords from the given paper abstract. The process is to first find all potential candidate terms, then check if they are more likely to be in a conference's name or a paper's title. \n",
      "\n",
      "Starting with the text: \"Federated Learning is a powerful machine learning paradigm that enables collaborative training across devices. However, its distributed nature presents problems of systemic and statistical heterogeneity that generate training instability, thus requiring adaptive and dynamic solutions. Therefore, this paper presents the community with a new way to address these problems using language model agents. We demonstrate the reasons why LM agents should be used in FL, their advantages, and research opportunities. We also conduct two experiments to demonstrate the potential of a simple implementation and how it can be enhanced through sophisticated agent techniques.\"\n",
      "\n",
      "First, I need to list all possible terms. Let's go through each sentence.\n",
      "\n",
      "1. \"Federated Learning\" – this is a well-known term in machine learning, likely a conference topic. So it passes.\n",
      "2. \"machine learning\" – this is a broad field, maybe not specific enough. But if it's part of a conference name, maybe. Wait, the test is if it's more likely in a conference name or a paper title. \"Machine learning\" is a general term, so maybe it fails. But if the conference is about machine learning, maybe it passes. But the example in the context had \"Distributed Systems\" as passing. So \"machine learning\" might be considered a general term, so it might fail.\n",
      "3. \"paradigm\" – this is a term used in academic contexts, but not specific to a conference. Maybe fails.\n",
      "4. \"collaborative training\" – this is a process, not specific to a conference. Fails.\n",
      "5. \"devices\" – part of the context, not specific. Fails.\n",
      "6. \"distributed nature\" – \"distributed\" is a term, but \"nature\" is more general. The example had \"Networking\" as passing. So \"distributed\" might be considered a conference term. Wait, the example had \"Dynamic Systems\" as passing because \"Dynamic\" is part of the conference name. So \"distributed\" could be a conference term if it's part of a conference name. But in this case, the text is about federated learning, which is a conference topic. So \"distributed\" might be considered a general term. Hmm, need to check if \"distributed\" is part of a conference name. Since the conference is about federated learning, maybe \"distributed\" is part of the conference's name. Wait, the example had \"Dynamic Systems\" as passing because \"Dynamic\" is part of the conference name. So \"distributed\" might be considered a conference term here. But I need to be careful. The test is whether the term is more likely in a conference name or a paper title. If the term is part of a conference's name, it passes. If it's a paper detail, it fails. So \"distributed\" here is part of the conference's name (federated learning is a conference topic, and \"distributed\" is part of the conference's name). Wait, but the conference is \"Federated Learning\" as a topic. So \"distributed\" is part of the conference's name? Or is it a separate term? Maybe \"distributed\" is a general term here. The example had \"Networking\" as passing because \"Networking\" is part of the conference name. So \"distributed\" might be considered a conference term here. But I need to be precise. The user's example had \"Dynamic Systems\" as passing because \"Dynamic\" is part of the conference name. So if \"distributed\" is part of the conference's name, then it passes. But in this case, the conference is about federated learning, and \"distributed\" is a property of the system, not a specific conference name. So maybe \"distributed\" is a paper-level detail, thus failing the test. Wait, but the user's example had \"Networking\" as passing because \"Networking\" is part of the conference name. So if \"distributed\" is part of the conference's name, then it passes. But in this case, the conference is about federated learning, and \"distributed\" is a property of the system. So maybe \"distributed\" is a paper-level detail, thus failing the test. Hmm, this is tricky. Let me think again. The test is: if the term is more likely in a conference name or a paper title. So if \"distributed\" is part of a conference name, like \"Distributed Systems\", then it passes. But in this case, the conference is \"Federated Learning\", and \"distributed\" is a property of the system. So maybe \"distributed\" is a paper-level detail, thus failing. So I need to check if \"distributed\" is part of a conference name. Since the conference is about federated learning, and \"distributed\" is a part of the system's characteristics, not a specific conference name, then it's a paper-level detail. So \"distributed\" would fail the test.\n",
      "\n",
      "Next, \"systemic and statistical heterogeneity\" – these are terms related to the problems in federated learning. They are part of the paper's discussion, so they would fail the test as paper-level details.\n",
      "\n",
      "\"training instability\" – similar to the above, part of the paper's discussion, so fails.\n",
      "\n",
      "\"adaptive and dynamic solutions\" – again, part of the paper's discussion, so fails.\n",
      "\n",
      "\"language model agents\" – this is a term used in the paper, so if it's part of a conference name, it passes. But the conference is about federated learning, and \"agents\" are part of the paper's discussion. So \"language model agents\" is a paper-level detail, thus failing the test.\n",
      "\n",
      "\"research opportunities\" – part of the paper's discussion, so fails.\n",
      "\n",
      "\"experiments\" – part of the paper's discussion, so fails.\n",
      "\n",
      "So the only terms that pass the test are \"Federated Learning\" (as a conference topic), and \"Networking\" (if that's part of the conference name). Wait, in the example, \"Dynamic Systems\" was considered passing because \"Dynamic\" is part of the conference name. But in this case, the conference is about federated learning, and \"distributed\" is part of the system's characteristics. So \"distributed\" is a paper-level detail. However, \"Networking\" is not in the text. Wait, the original text says \"distributed nature presents problems of systemic and statistical heterogeneity that generate training instability, thus requiring adaptive and dynamic solutions.\" So \"distributed\" is part of the system's characteristics. But \"Networking\" isn't mentioned here. Wait, the example had \"Networking\" as passing because \"Networking\" is part of the conference name. But in this case, the conference is about federated learning, and \"distributed\" is part of the system's characteristics. So \"distributed\" is a paper-level detail. So the only term that passes is \"Federated Learning\".\n",
      "\n",
      "Wait, but the example had \"Dynamic Systems\" as passing because \"Dynamic\" is part of the conference name. So if \"distributed\" is part of the conference's name, then it would pass. But in this case, the conference is about federated learning, and \"distributed\" is a property of the system. So maybe \"distributed\" is a paper-level detail. Therefore, the only term that passes is \"Federated Learning\".\n",
      "\n",
      "Wait, but the user's example had \"Dynamic Systems\" as passing because \"Dynamic\" is part of the conference name. So if \"distributed\" is part of the conference's name, then it would pass. But in this case, the conference is about federated learning, and \"distributed\" is a property of the system. So maybe \"distributed\" is a paper-level detail. Therefore, the only term that passes is \"Federated Learning\".\n",
      "\n",
      "But wait, the user's example included \"Networking\" as passing. So if \"Networking\" is part of the conference name, then it passes. But in this case, the conference is about federated learning, and \"Networking\" isn't mentioned. So \"Networking\" is not in the text. Therefore, the only term that passes is \"Federated Learning\".\n",
      "\n",
      "Wait, but the original text says \"distributed nature presents problems of systemic and statistical heterogeneity that generate training instability, thus requiring adaptive and dynamic solutions.\" So \"distributed\" is part of the system's characteristics, not a conference name. So \"distributed\" is a paper-level detail. Therefore, it fails the test.\n",
      "\n",
      "So the internal list would be \"Federated Learning\".\n",
      "</think>\n",
      "\n",
      "Federated Learning\n",
      "...\n",
      "--- Extracting Keywords ---\n",
      "Extracted Keywords: ['Federated Learning']\n",
      "Analyst keywords: ['Federated Learning']\n",
      "Node Scout activated\n",
      "Searching conferences with keyword: Federated Learning\n",
      "- Federated Learning\n",
      "Searching WikiCFP with URL: http://www.wikicfp.com/cfp/servlet/tool.search?q=Federated Learning&year=2026\n",
      "Results: [{'acronym': 'Ei/Scopus-ITCC 2026', 'full_name': '2026 6th International Conference on Information Technology and Cloud Computing (ITCC 2026)', 'deadline': 'Apr 22, 2026', 'where': 'Guangzhou, China', 'when': 'May 22, 2026 - May 24, 2026', 'keywords': ['information technology', 'NLP', 'natural language processing', 'machine learning'], 'link': 'http://www.wikicfp.com//cfp/servlet/event.showcfp?eventid=127474&copyownerid=320'}, {'acronym': 'Ei/Scopus-CEICE 2026', 'full_name': '2026 3rd International Conference on Electrical, Information and Communication Engineering (CEICE 2026)', 'deadline': 'Feb 27, 2026', 'where': 'Hangzhou, China', 'when': 'Mar 27, 2026 - Mar 29, 2026', 'keywords': ['mathematics', 'intelligent computing', 'machine learning', 'computer science'], 'link': 'http://www.wikicfp.com//cfp/servlet/event.showcfp?eventid=172344&copyownerid=183836'}, {'acronym': 'Ei/Scopus-CMLDS 2026', 'full_name': '2026 3rd International Conference on Computing, Machine Learning and Data Science (CMLDS 2026)', 'deadline': 'Mar 24, 2026', 'where': 'Singapore', 'when': 'Apr 24, 2026 - Apr 26, 2026', 'keywords': ['computing', 'machine learning', 'data science', 'quantum computing'], 'link': 'http://www.wikicfp.com//cfp/servlet/event.showcfp?eventid=172345&copyownerid=165700'}, {'acronym': 'Ei/Scopus-CNIOT 2026', 'full_name': '2026 7th IEEE International Conference on Computing, Networks and Internet of Things (CNIOT 2026)', 'deadline': 'Apr 22, 2026', 'where': 'Guangzhou, China', 'when': 'May 22, 2026 - May 24, 2026', 'keywords': ['advanced robotics', 'automation engineering', 'machine learning'], 'link': 'http://www.wikicfp.com//cfp/servlet/event.showcfp?eventid=181029&copyownerid=191007'}, {'acronym': 'AMLDS 2026', 'full_name': 'IEEE--2026 2nd International Conference on Advanced Machine Learning and Data Science', 'deadline': 'Feb 10, 2026', 'where': 'Osaka, Japan', 'when': 'Jul 21, 2026 - Jul 23, 2026', 'keywords': ['machine learning', 'deep learning', 'artificial intelligence', 'data mining'], 'link': 'http://www.wikicfp.com//cfp/servlet/event.showcfp?eventid=180065&copyownerid=186741'}]\n",
      "Found 5 venues\n",
      "Router Scout activated\n",
      "Raw venues: [{'acronym': 'Ei/Scopus-ITCC 2026', 'full_name': '2026 6th International Conference on Information Technology and Cloud Computing (ITCC 2026)', 'deadline': 'Apr 22, 2026', 'where': 'Guangzhou, China', 'when': 'May 22, 2026 - May 24, 2026', 'keywords': ['information technology', 'NLP', 'natural language processing', 'machine learning'], 'link': 'http://www.wikicfp.com//cfp/servlet/event.showcfp?eventid=127474&copyownerid=320'}, {'acronym': 'Ei/Scopus-CEICE 2026', 'full_name': '2026 3rd International Conference on Electrical, Information and Communication Engineering (CEICE 2026)', 'deadline': 'Feb 27, 2026', 'where': 'Hangzhou, China', 'when': 'Mar 27, 2026 - Mar 29, 2026', 'keywords': ['mathematics', 'intelligent computing', 'machine learning', 'computer science'], 'link': 'http://www.wikicfp.com//cfp/servlet/event.showcfp?eventid=172344&copyownerid=183836'}, {'acronym': 'Ei/Scopus-CMLDS 2026', 'full_name': '2026 3rd International Conference on Computing, Machine Learning and Data Science (CMLDS 2026)', 'deadline': 'Mar 24, 2026', 'where': 'Singapore', 'when': 'Apr 24, 2026 - Apr 26, 2026', 'keywords': ['computing', 'machine learning', 'data science', 'quantum computing'], 'link': 'http://www.wikicfp.com//cfp/servlet/event.showcfp?eventid=172345&copyownerid=165700'}, {'acronym': 'Ei/Scopus-CNIOT 2026', 'full_name': '2026 7th IEEE International Conference on Computing, Networks and Internet of Things (CNIOT 2026)', 'deadline': 'Apr 22, 2026', 'where': 'Guangzhou, China', 'when': 'May 22, 2026 - May 24, 2026', 'keywords': ['advanced robotics', 'automation engineering', 'machine learning'], 'link': 'http://www.wikicfp.com//cfp/servlet/event.showcfp?eventid=181029&copyownerid=191007'}, {'acronym': 'AMLDS 2026', 'full_name': 'IEEE--2026 2nd International Conference on Advanced Machine Learning and Data Science', 'deadline': 'Feb 10, 2026', 'where': 'Osaka, Japan', 'when': 'Jul 21, 2026 - Jul 23, 2026', 'keywords': ['machine learning', 'deep learning', 'artificial intelligence', 'data mining'], 'link': 'http://www.wikicfp.com//cfp/servlet/event.showcfp?eventid=180065&copyownerid=186741'}]\n",
      "Decision: Max search tries reached. Send to Node Researcher\n",
      "Node Researcher activated\n",
      "Fetching contents from conference links...\n",
      "Fetched content from: http://www.wikicfp.com//cfp/servlet/event.showcfp?eventid=127474&copyownerid=320\n",
      "Fetched content from: http://www.wikicfp.com//cfp/servlet/event.showcfp?eventid=172344&copyownerid=183836\n",
      "Fetched content from: http://www.wikicfp.com//cfp/servlet/event.showcfp?eventid=172345&copyownerid=165700\n",
      "Fetched content from: http://www.wikicfp.com//cfp/servlet/event.showcfp?eventid=181029&copyownerid=191007\n",
      "Fetched content from: http://www.wikicfp.com//cfp/servlet/event.showcfp?eventid=180065&copyownerid=186741\n",
      "Processing each venue for enrichment...\n",
      "Enriching venue: 2026 6th International Conference on Information Technology and Cloud Computing (ITCC 2026)\n",
      "Researcher planning...\n",
      "Researcher reasoning...\n",
      "{}\n",
      "Enriching venue: 2026 3rd International Conference on Electrical, Information and Communication Engineering (CEICE 2026)\n",
      "Researcher planning...\n",
      "Researcher reasoning...\n",
      "{}\n",
      "Enriching venue: 2026 3rd International Conference on Computing, Machine Learning and Data Science (CMLDS 2026)\n",
      "Researcher planning...\n",
      "Researcher reasoning...\n",
      "{}\n",
      "Enriching venue: 2026 7th IEEE International Conference on Computing, Networks and Internet of Things (CNIOT 2026)\n",
      "Researcher planning...\n",
      "Researcher reasoning...\n",
      "{}\n",
      "Enriching venue: IEEE--2026 2nd International Conference on Advanced Machine Learning and Data Science\n",
      "Researcher planning...\n",
      "Researcher reasoning...\n",
      "{}\n",
      "Enrichment completed.\n",
      "Enriched venues: [{'acronym': 'Ei/Scopus-ITCC 2026', 'full_name': '2026 6th International Conference on Information Technology and Cloud Computing (ITCC 2026)', 'deadline': 'Apr 22, 2026', 'where': 'Guangzhou, China', 'when': 'May 22, 2026 - May 24, 2026', 'keywords': ['information technology', 'NLP', 'natural language processing', 'machine learning'], 'link': 'http://www.wikicfp.com//cfp/servlet/event.showcfp?eventid=127474&copyownerid=320', 'additional_info': [{'snippet': 'February 20, 2025 - ICCIT is mainly focused on computer science and information technology but also covers related electronic engineering topics .', 'title': 'Wikipedia International Conference on Computer and Information Technology - Wikipedia', 'link': 'https://en.wikipedia.org/wiki/International_Conference_on_Computer_and_Information_Technology'}, {'snippet': '2026 6th International Conference on Information Technology and Cloud Computing ( ITCC 2026 ) will be held during May 22-24, 2026 in Guangzhou, China.', 'title': 'ITCC 2026', 'link': 'http://itcc-conf.net/'}, {'snippet': '2026 6th International Conference on Information Technology and Cloud Computing ( ITCC 2026 ), aims to bring together leading academic scientists, research scholars and researchers to share and exchange their experiences and research results about all aspects of Wireless Communication and Big Data.', 'title': 'Ei/Scopus-ITCC 2026 - 2026 6th International Conference on ...', 'link': 'https://conference.researchbib.com/view/event/166884'}, {'snippet': 'Please, check \" International Conference on Information Technology and Cloud Computing ( ITCC )\" official website for possible changes, before making any traveling arrangements. Technology: Data management, Digital Infrastructure, Information Technology (IT), Internet. Find and Compare Upcoming International Conferences in 2026 . Check Important Dates, Venue, Speaker, Location, Address, Exhibitor Information, Timing, Schedule, Discussion Topics , Agenda, Visitors Profile, and Other Important Details. Aug 15, 2025 · Explore our curated list of major international computer science and technology conferences for 2026 . Find call for papers, submission deadlines, and locations for events in Big Data (BDPC), Blockchain (BIOTC), AI (SEAI, NLPAI), and more. Jan 8, 2025 · Find information on IT Conferences in 2026 , including dates, locations, price ranges, and more. Jul 1, 2025 · For accepted papers, it will be published in the ICCCR 2026 Conference Proceedings, which will be indexed by Ei Compendex and Scopus.', 'title': '6th International Conference on Information Technology and ... List of International Conferences in 2026 | Upcoming Events ... 2026 International Conference List: A Guide for Computer and ... IT Conferences in 2026 | Conference Locate (Clocate) ICCCR 2026 - 6th International Conference on Computer ...', 'link': 'https://www.clocate.com/international-conference-on-information-technology-and-cloud-computing-itcc/91915/'}], 'conference_topics': {}}, {'acronym': 'Ei/Scopus-CEICE 2026', 'full_name': '2026 3rd International Conference on Electrical, Information and Communication Engineering (CEICE 2026)', 'deadline': 'Feb 27, 2026', 'where': 'Hangzhou, China', 'when': 'Mar 27, 2026 - Mar 29, 2026', 'keywords': ['mathematics', 'intelligent computing', 'machine learning', 'computer science'], 'link': 'http://www.wikicfp.com//cfp/servlet/event.showcfp?eventid=172344&copyownerid=183836', 'additional_info': [{'snippet': \"Before buying a pram, make sure that it conforms to the official safety standards. The president's official visit marks the start of a more fraternal relationship between the two countries.\", 'title': 'OFFICIAL | tradução de inglês para português - Cambridge …', 'link': 'https://dictionary.cambridge.org/pt/dicionario/ingles-portugues/official'}, {'snippet': 'Ver a tradução automática do Google Tradutor de \"official\". Em outros idiomas: espanhol | francês | italiano | romeno | alemão | Holandês | sueco | russo | polonês | checo | grego | turco | chinês | …', 'title': 'official - Dicionário Inglês-Português (Brasil) WordReference.com', 'link': 'https://www.wordreference.com/enpt/official'}, {'snippet': 'Muitos exemplos de traduções com \"official\" – Dicionário português-inglês e busca em milhões de traduções.', 'title': 'official - Tradução em português – Linguee', 'link': 'https://www.linguee.com.br/ingles-portugues/traducao/official.html'}, {'snippet': 'Lembre-se de que official quer dizer “oficial” se estivermos nos referindo ao adjetivo. O substantivo official, por sua vez, deve ser traduzido por “funcionário” (geralmente do governo), “autoridade” …', 'title': 'OFFICIAL? Nem sempre \"oficial \" é a melhor tradução! - Tecla SAP', 'link': 'https://www.teclasap.com.br/official/'}], 'conference_topics': {}}, {'acronym': 'Ei/Scopus-CMLDS 2026', 'full_name': '2026 3rd International Conference on Computing, Machine Learning and Data Science (CMLDS 2026)', 'deadline': 'Mar 24, 2026', 'where': 'Singapore', 'when': 'Apr 24, 2026 - Apr 26, 2026', 'keywords': ['computing', 'machine learning', 'data science', 'quantum computing'], 'link': 'http://www.wikicfp.com//cfp/servlet/event.showcfp?eventid=172345&copyownerid=165700', 'additional_info': [{'snippet': 'Please, check \" International Conference on Computing , Machine Learning and Data Science ( CMLDS )\" official website for possible changes, before making any traveling arrangements. Technology: Artificial Intelligence (AI), Communication Networks, Data management, Information Technology (IT)', 'title': '3rd International Conference on Computing, Machine Learning ...', 'link': 'https://www.clocate.com/international-conference-on-computing-machine-learning-and-data-science-cmlds/101387/'}, {'snippet': 'CMLDS 2026 is to bring together leading academic scientists, research scholars and researchers to share and exchange their experiences and research results about all aspects of Computing , Machine Learning and Data Science .', 'title': 'CMLDS 2026', 'link': 'http://www.cmlds.net/'}, {'snippet': '2026 3rd International Conference on Machine learning and intelligent computing (MLIC 2026 ) will be held in Zhengzhou, China during April 24 - 26 , 2026 . The MLIC 2026 conference aims to gather professors, researchers, scholars and industrial pioneers all over the world.', 'title': '2026 3rd International Conference on Machine learning and ...', 'link': 'https://www.icmlic.org/'}, {'snippet': 'The conference brings together leading academics, researchers, and industry professionals to exchange knowledge, share experiences, and foster collaboration across all areas of AI, Machine Learning , and Data Science .', 'title': 'Artificial Intelligence Conference | Machine Learning ...', 'link': 'https://artificialintelligence.unitedscientificgroup.org/index'}], 'conference_topics': {}}, {'acronym': 'Ei/Scopus-CNIOT 2026', 'full_name': '2026 7th IEEE International Conference on Computing, Networks and Internet of Things (CNIOT 2026)', 'deadline': 'Apr 22, 2026', 'where': 'Guangzhou, China', 'when': 'May 22, 2026 - May 24, 2026', 'keywords': ['advanced robotics', 'automation engineering', 'machine learning'], 'link': 'http://www.wikicfp.com//cfp/servlet/event.showcfp?eventid=181029&copyownerid=191007', 'additional_info': [{'snippet': 'April 25, 2025 - The aim of the conference workshops is to emphasize emerging topics that are not specifically covered in the main symposia. Each workshop may include a mix of regular papers, invited presentations, keynotes and panels that encourage the participation of attendees in active discussion. ... All papers must be submitted to the official ICC 2026 submission system.', 'title': 'Ieee-icc Call for Symposia Papers | IEEE International Conference on Communications', 'link': 'https://icc2026.ieee-icc.org/authors/call-symposia-papers'}, {'snippet': 'July 30, 2025 - Browse a list of upcoming conferences sponsored, co-sponsored, or technically sponsored by IEEE IAS.', 'title': 'IEEE Conference Schedule - IEEE Industry Applications Society', 'link': 'https://ias.ieee.org/conferences/conference-schedule/'}, {'snippet': 'June 3, 2025 - ICCE 2026 will feature comprehensive high-quality technical and industry programs covering traditional and contemporary topics delivered through lecture, and interactive oral presentations, tutorials, industry forums, mixed panels and high profile keynotes. Authors should register under the \"Full\" registration category to get their papers submitted to the Conference Proceedings and IEEE Xplore®.', 'title': 'Icce About ICCE 2026', 'link': 'https://icce.org/2026/about-2/'}, {'snippet': 'July 22, 2025 - The Paper strand provides the opportunity for researchers to present their new state-of-the-art research in Distributed Computing Systems, which makes, or has the potential to make, a significant contribution to the field. Papers must be original and unpublished and must not be submitted concurrently for publication elsewhere. All paper submissions should follow the IEEE 8.5″ x 11″ two-column format using 10pt fonts and the IEEE Conference template (downloadable by selecting “Conferences” in the IEEE-Template Selector https://template-selector.ieee.org/).', 'title': 'Icdcs Call for Papers - IEEE ICDCS 2026IEEE ICDCS 2026', 'link': 'https://icdcs2026.icdcs.org/calls/call-for-papers/'}], 'conference_topics': {}}, {'acronym': 'AMLDS 2026', 'full_name': 'IEEE--2026 2nd International Conference on Advanced Machine Learning and Data Science', 'deadline': 'Feb 10, 2026', 'where': 'Osaka, Japan', 'when': 'Jul 21, 2026 - Jul 23, 2026', 'keywords': ['machine learning', 'deep learning', 'artificial intelligence', 'data mining'], 'link': 'http://www.wikicfp.com//cfp/servlet/event.showcfp?eventid=180065&copyownerid=186741', 'additional_info': [{'snippet': \"Before buying a pram, make sure that it conforms to the official safety standards. The president's official visit marks the start of a more fraternal relationship between the two countries.\", 'title': 'OFFICIAL | tradução de inglês para português - Cambridge …', 'link': 'https://dictionary.cambridge.org/pt/dicionario/ingles-portugues/official'}, {'snippet': 'Ver a tradução automática do Google Tradutor de \"official\". Em outros idiomas: espanhol | francês | italiano | romeno | alemão | Holandês | sueco | russo | polonês | checo | grego | turco | chinês …', 'title': 'official - Dicionário Inglês-Português (Brasil) WordReference.com', 'link': 'https://www.wordreference.com/enpt/official'}, {'snippet': 'Muitos exemplos de traduções com \"official\" – Dicionário português-inglês e busca em milhões de traduções.', 'title': 'official - Tradução em português – Linguee', 'link': 'https://www.linguee.com.br/ingles-portugues/traducao/official.html'}, {'snippet': 'Lembre-se de que official quer dizer “oficial” se estivermos nos referindo ao adjetivo. O substantivo official, por sua vez, deve ser traduzido por “funcionário” (geralmente do governo), …', 'title': 'OFFICIAL? Nem sempre \"oficial \" é a melhor tradução! - Tecla SAP', 'link': 'https://www.teclasap.com.br/official/'}], 'conference_topics': {}}]\n",
      "Node Critic activated\n"
     ]
    },
    {
     "ename": "KeyError",
     "evalue": "'selected_venues'",
     "output_type": "error",
     "traceback": [
      "\u001b[31m---------------------------------------------------------------------------\u001b[39m",
      "\u001b[31mKeyError\u001b[39m                                  Traceback (most recent call last)",
      "\u001b[36mCell\u001b[39m\u001b[36m \u001b[39m\u001b[32mIn[6]\u001b[39m\u001b[32m, line 12\u001b[39m\n\u001b[32m      1\u001b[39m initial_state = {\n\u001b[32m      2\u001b[39m     \u001b[33m\"\u001b[39m\u001b[33msummary\u001b[39m\u001b[33m\"\u001b[39m: \u001b[33m\"\u001b[39m\u001b[33mFederated Learning is a powerful machine learning paradigm that enables collaborative training across devices. However, its distributed nature presents problems of systemic and statistical heterogeneity that generate training instability, thus requiring adaptive and dynamic solutions. Therefore, this paper presents the community with a new way to address these problems using language model agents. We demonstrate the reasons why LM agents should be used in FL, their advantages, and research opportunities. We also conduct two experiments to demonstrate the potential of a simple implementation and how it can be enhanced through sophisticated agent techniques.\u001b[39m\u001b[33m\"\u001b[39m,\n\u001b[32m      3\u001b[39m     \u001b[33m\"\u001b[39m\u001b[33mkeywords\u001b[39m\u001b[33m\"\u001b[39m: \u001b[33m\"\u001b[39m\u001b[33m\"\u001b[39m,\n\u001b[32m   (...)\u001b[39m\u001b[32m     10\u001b[39m \n\u001b[32m     11\u001b[39m }\n\u001b[32m---> \u001b[39m\u001b[32m12\u001b[39m result = \u001b[43mapp\u001b[49m\u001b[43m.\u001b[49m\u001b[43minvoke\u001b[49m\u001b[43m(\u001b[49m\u001b[43minitial_state\u001b[49m\u001b[43m)\u001b[49m\n",
      "\u001b[36mFile \u001b[39m\u001b[32m~/master/projects/multi-agent-system/.venv/lib/python3.13/site-packages/langgraph/pregel/main.py:3085\u001b[39m, in \u001b[36mPregel.invoke\u001b[39m\u001b[34m(self, input, config, context, stream_mode, print_mode, output_keys, interrupt_before, interrupt_after, durability, **kwargs)\u001b[39m\n\u001b[32m   3082\u001b[39m chunks: \u001b[38;5;28mlist\u001b[39m[\u001b[38;5;28mdict\u001b[39m[\u001b[38;5;28mstr\u001b[39m, Any] | Any] = []\n\u001b[32m   3083\u001b[39m interrupts: \u001b[38;5;28mlist\u001b[39m[Interrupt] = []\n\u001b[32m-> \u001b[39m\u001b[32m3085\u001b[39m \u001b[43m\u001b[49m\u001b[38;5;28;43;01mfor\u001b[39;49;00m\u001b[43m \u001b[49m\u001b[43mchunk\u001b[49m\u001b[43m \u001b[49m\u001b[38;5;129;43;01min\u001b[39;49;00m\u001b[43m \u001b[49m\u001b[38;5;28;43mself\u001b[39;49m\u001b[43m.\u001b[49m\u001b[43mstream\u001b[49m\u001b[43m(\u001b[49m\n\u001b[32m   3086\u001b[39m \u001b[43m    \u001b[49m\u001b[38;5;28;43minput\u001b[39;49m\u001b[43m,\u001b[49m\n\u001b[32m   3087\u001b[39m \u001b[43m    \u001b[49m\u001b[43mconfig\u001b[49m\u001b[43m,\u001b[49m\n\u001b[32m   3088\u001b[39m \u001b[43m    \u001b[49m\u001b[43mcontext\u001b[49m\u001b[43m=\u001b[49m\u001b[43mcontext\u001b[49m\u001b[43m,\u001b[49m\n\u001b[32m   3089\u001b[39m \u001b[43m    \u001b[49m\u001b[43mstream_mode\u001b[49m\u001b[43m=\u001b[49m\u001b[43m[\u001b[49m\u001b[33;43m\"\u001b[39;49m\u001b[33;43mupdates\u001b[39;49m\u001b[33;43m\"\u001b[39;49m\u001b[43m,\u001b[49m\u001b[43m \u001b[49m\u001b[33;43m\"\u001b[39;49m\u001b[33;43mvalues\u001b[39;49m\u001b[33;43m\"\u001b[39;49m\u001b[43m]\u001b[49m\n\u001b[32m   3090\u001b[39m \u001b[43m    \u001b[49m\u001b[38;5;28;43;01mif\u001b[39;49;00m\u001b[43m \u001b[49m\u001b[43mstream_mode\u001b[49m\u001b[43m \u001b[49m\u001b[43m==\u001b[49m\u001b[43m \u001b[49m\u001b[33;43m\"\u001b[39;49m\u001b[33;43mvalues\u001b[39;49m\u001b[33;43m\"\u001b[39;49m\n\u001b[32m   3091\u001b[39m \u001b[43m    \u001b[49m\u001b[38;5;28;43;01melse\u001b[39;49;00m\u001b[43m \u001b[49m\u001b[43mstream_mode\u001b[49m\u001b[43m,\u001b[49m\n\u001b[32m   3092\u001b[39m \u001b[43m    \u001b[49m\u001b[43mprint_mode\u001b[49m\u001b[43m=\u001b[49m\u001b[43mprint_mode\u001b[49m\u001b[43m,\u001b[49m\n\u001b[32m   3093\u001b[39m \u001b[43m    \u001b[49m\u001b[43moutput_keys\u001b[49m\u001b[43m=\u001b[49m\u001b[43moutput_keys\u001b[49m\u001b[43m,\u001b[49m\n\u001b[32m   3094\u001b[39m \u001b[43m    \u001b[49m\u001b[43minterrupt_before\u001b[49m\u001b[43m=\u001b[49m\u001b[43minterrupt_before\u001b[49m\u001b[43m,\u001b[49m\n\u001b[32m   3095\u001b[39m \u001b[43m    \u001b[49m\u001b[43minterrupt_after\u001b[49m\u001b[43m=\u001b[49m\u001b[43minterrupt_after\u001b[49m\u001b[43m,\u001b[49m\n\u001b[32m   3096\u001b[39m \u001b[43m    \u001b[49m\u001b[43mdurability\u001b[49m\u001b[43m=\u001b[49m\u001b[43mdurability\u001b[49m\u001b[43m,\u001b[49m\n\u001b[32m   3097\u001b[39m \u001b[43m    \u001b[49m\u001b[43m*\u001b[49m\u001b[43m*\u001b[49m\u001b[43mkwargs\u001b[49m\u001b[43m,\u001b[49m\n\u001b[32m   3098\u001b[39m \u001b[43m\u001b[49m\u001b[43m)\u001b[49m\u001b[43m:\u001b[49m\n\u001b[32m   3099\u001b[39m \u001b[43m    \u001b[49m\u001b[38;5;28;43;01mif\u001b[39;49;00m\u001b[43m \u001b[49m\u001b[43mstream_mode\u001b[49m\u001b[43m \u001b[49m\u001b[43m==\u001b[49m\u001b[43m \u001b[49m\u001b[33;43m\"\u001b[39;49m\u001b[33;43mvalues\u001b[39;49m\u001b[33;43m\"\u001b[39;49m\u001b[43m:\u001b[49m\n\u001b[32m   3100\u001b[39m \u001b[43m        \u001b[49m\u001b[38;5;28;43;01mif\u001b[39;49;00m\u001b[43m \u001b[49m\u001b[38;5;28;43mlen\u001b[39;49m\u001b[43m(\u001b[49m\u001b[43mchunk\u001b[49m\u001b[43m)\u001b[49m\u001b[43m \u001b[49m\u001b[43m==\u001b[49m\u001b[43m \u001b[49m\u001b[32;43m2\u001b[39;49m\u001b[43m:\u001b[49m\n",
      "\u001b[36mFile \u001b[39m\u001b[32m~/master/projects/multi-agent-system/.venv/lib/python3.13/site-packages/langgraph/pregel/main.py:2674\u001b[39m, in \u001b[36mPregel.stream\u001b[39m\u001b[34m(self, input, config, context, stream_mode, print_mode, output_keys, interrupt_before, interrupt_after, durability, subgraphs, debug, **kwargs)\u001b[39m\n\u001b[32m   2672\u001b[39m \u001b[38;5;28;01mfor\u001b[39;00m task \u001b[38;5;129;01min\u001b[39;00m loop.match_cached_writes():\n\u001b[32m   2673\u001b[39m     loop.output_writes(task.id, task.writes, cached=\u001b[38;5;28;01mTrue\u001b[39;00m)\n\u001b[32m-> \u001b[39m\u001b[32m2674\u001b[39m \u001b[43m\u001b[49m\u001b[38;5;28;43;01mfor\u001b[39;49;00m\u001b[43m \u001b[49m\u001b[43m_\u001b[49m\u001b[43m \u001b[49m\u001b[38;5;129;43;01min\u001b[39;49;00m\u001b[43m \u001b[49m\u001b[43mrunner\u001b[49m\u001b[43m.\u001b[49m\u001b[43mtick\u001b[49m\u001b[43m(\u001b[49m\n\u001b[32m   2675\u001b[39m \u001b[43m    \u001b[49m\u001b[43m[\u001b[49m\u001b[43mt\u001b[49m\u001b[43m \u001b[49m\u001b[38;5;28;43;01mfor\u001b[39;49;00m\u001b[43m \u001b[49m\u001b[43mt\u001b[49m\u001b[43m \u001b[49m\u001b[38;5;129;43;01min\u001b[39;49;00m\u001b[43m \u001b[49m\u001b[43mloop\u001b[49m\u001b[43m.\u001b[49m\u001b[43mtasks\u001b[49m\u001b[43m.\u001b[49m\u001b[43mvalues\u001b[49m\u001b[43m(\u001b[49m\u001b[43m)\u001b[49m\u001b[43m \u001b[49m\u001b[38;5;28;43;01mif\u001b[39;49;00m\u001b[43m \u001b[49m\u001b[38;5;129;43;01mnot\u001b[39;49;00m\u001b[43m \u001b[49m\u001b[43mt\u001b[49m\u001b[43m.\u001b[49m\u001b[43mwrites\u001b[49m\u001b[43m]\u001b[49m\u001b[43m,\u001b[49m\n\u001b[32m   2676\u001b[39m \u001b[43m    \u001b[49m\u001b[43mtimeout\u001b[49m\u001b[43m=\u001b[49m\u001b[38;5;28;43mself\u001b[39;49m\u001b[43m.\u001b[49m\u001b[43mstep_timeout\u001b[49m\u001b[43m,\u001b[49m\n\u001b[32m   2677\u001b[39m \u001b[43m    \u001b[49m\u001b[43mget_waiter\u001b[49m\u001b[43m=\u001b[49m\u001b[43mget_waiter\u001b[49m\u001b[43m,\u001b[49m\n\u001b[32m   2678\u001b[39m \u001b[43m    \u001b[49m\u001b[43mschedule_task\u001b[49m\u001b[43m=\u001b[49m\u001b[43mloop\u001b[49m\u001b[43m.\u001b[49m\u001b[43maccept_push\u001b[49m\u001b[43m,\u001b[49m\n\u001b[32m   2679\u001b[39m \u001b[43m\u001b[49m\u001b[43m)\u001b[49m\u001b[43m:\u001b[49m\n\u001b[32m   2680\u001b[39m \u001b[43m    \u001b[49m\u001b[38;5;66;43;03m# emit output\u001b[39;49;00m\n\u001b[32m   2681\u001b[39m \u001b[43m    \u001b[49m\u001b[38;5;28;43;01myield from\u001b[39;49;00m\u001b[43m \u001b[49m\u001b[43m_output\u001b[49m\u001b[43m(\u001b[49m\n\u001b[32m   2682\u001b[39m \u001b[43m        \u001b[49m\u001b[43mstream_mode\u001b[49m\u001b[43m,\u001b[49m\u001b[43m \u001b[49m\u001b[43mprint_mode\u001b[49m\u001b[43m,\u001b[49m\u001b[43m \u001b[49m\u001b[43msubgraphs\u001b[49m\u001b[43m,\u001b[49m\u001b[43m \u001b[49m\u001b[43mstream\u001b[49m\u001b[43m.\u001b[49m\u001b[43mget\u001b[49m\u001b[43m,\u001b[49m\u001b[43m \u001b[49m\u001b[43mqueue\u001b[49m\u001b[43m.\u001b[49m\u001b[43mEmpty\u001b[49m\n\u001b[32m   2683\u001b[39m \u001b[43m    \u001b[49m\u001b[43m)\u001b[49m\n\u001b[32m   2684\u001b[39m loop.after_tick()\n",
      "\u001b[36mFile \u001b[39m\u001b[32m~/master/projects/multi-agent-system/.venv/lib/python3.13/site-packages/langgraph/pregel/_runner.py:162\u001b[39m, in \u001b[36mPregelRunner.tick\u001b[39m\u001b[34m(self, tasks, reraise, timeout, retry_policy, get_waiter, schedule_task)\u001b[39m\n\u001b[32m    160\u001b[39m t = tasks[\u001b[32m0\u001b[39m]\n\u001b[32m    161\u001b[39m \u001b[38;5;28;01mtry\u001b[39;00m:\n\u001b[32m--> \u001b[39m\u001b[32m162\u001b[39m     \u001b[43mrun_with_retry\u001b[49m\u001b[43m(\u001b[49m\n\u001b[32m    163\u001b[39m \u001b[43m        \u001b[49m\u001b[43mt\u001b[49m\u001b[43m,\u001b[49m\n\u001b[32m    164\u001b[39m \u001b[43m        \u001b[49m\u001b[43mretry_policy\u001b[49m\u001b[43m,\u001b[49m\n\u001b[32m    165\u001b[39m \u001b[43m        \u001b[49m\u001b[43mconfigurable\u001b[49m\u001b[43m=\u001b[49m\u001b[43m{\u001b[49m\n\u001b[32m    166\u001b[39m \u001b[43m            \u001b[49m\u001b[43mCONFIG_KEY_CALL\u001b[49m\u001b[43m:\u001b[49m\u001b[43m \u001b[49m\u001b[43mpartial\u001b[49m\u001b[43m(\u001b[49m\n\u001b[32m    167\u001b[39m \u001b[43m                \u001b[49m\u001b[43m_call\u001b[49m\u001b[43m,\u001b[49m\n\u001b[32m    168\u001b[39m \u001b[43m                \u001b[49m\u001b[43mweakref\u001b[49m\u001b[43m.\u001b[49m\u001b[43mref\u001b[49m\u001b[43m(\u001b[49m\u001b[43mt\u001b[49m\u001b[43m)\u001b[49m\u001b[43m,\u001b[49m\n\u001b[32m    169\u001b[39m \u001b[43m                \u001b[49m\u001b[43mretry_policy\u001b[49m\u001b[43m=\u001b[49m\u001b[43mretry_policy\u001b[49m\u001b[43m,\u001b[49m\n\u001b[32m    170\u001b[39m \u001b[43m                \u001b[49m\u001b[43mfutures\u001b[49m\u001b[43m=\u001b[49m\u001b[43mweakref\u001b[49m\u001b[43m.\u001b[49m\u001b[43mref\u001b[49m\u001b[43m(\u001b[49m\u001b[43mfutures\u001b[49m\u001b[43m)\u001b[49m\u001b[43m,\u001b[49m\n\u001b[32m    171\u001b[39m \u001b[43m                \u001b[49m\u001b[43mschedule_task\u001b[49m\u001b[43m=\u001b[49m\u001b[43mschedule_task\u001b[49m\u001b[43m,\u001b[49m\n\u001b[32m    172\u001b[39m \u001b[43m                \u001b[49m\u001b[43msubmit\u001b[49m\u001b[43m=\u001b[49m\u001b[38;5;28;43mself\u001b[39;49m\u001b[43m.\u001b[49m\u001b[43msubmit\u001b[49m\u001b[43m,\u001b[49m\n\u001b[32m    173\u001b[39m \u001b[43m            \u001b[49m\u001b[43m)\u001b[49m\u001b[43m,\u001b[49m\n\u001b[32m    174\u001b[39m \u001b[43m        \u001b[49m\u001b[43m}\u001b[49m\u001b[43m,\u001b[49m\n\u001b[32m    175\u001b[39m \u001b[43m    \u001b[49m\u001b[43m)\u001b[49m\n\u001b[32m    176\u001b[39m     \u001b[38;5;28mself\u001b[39m.commit(t, \u001b[38;5;28;01mNone\u001b[39;00m)\n\u001b[32m    177\u001b[39m \u001b[38;5;28;01mexcept\u001b[39;00m \u001b[38;5;167;01mException\u001b[39;00m \u001b[38;5;28;01mas\u001b[39;00m exc:\n",
      "\u001b[36mFile \u001b[39m\u001b[32m~/master/projects/multi-agent-system/.venv/lib/python3.13/site-packages/langgraph/pregel/_retry.py:42\u001b[39m, in \u001b[36mrun_with_retry\u001b[39m\u001b[34m(task, retry_policy, configurable)\u001b[39m\n\u001b[32m     40\u001b[39m     task.writes.clear()\n\u001b[32m     41\u001b[39m     \u001b[38;5;66;03m# run the task\u001b[39;00m\n\u001b[32m---> \u001b[39m\u001b[32m42\u001b[39m     \u001b[38;5;28;01mreturn\u001b[39;00m \u001b[43mtask\u001b[49m\u001b[43m.\u001b[49m\u001b[43mproc\u001b[49m\u001b[43m.\u001b[49m\u001b[43minvoke\u001b[49m\u001b[43m(\u001b[49m\u001b[43mtask\u001b[49m\u001b[43m.\u001b[49m\u001b[43minput\u001b[49m\u001b[43m,\u001b[49m\u001b[43m \u001b[49m\u001b[43mconfig\u001b[49m\u001b[43m)\u001b[49m\n\u001b[32m     43\u001b[39m \u001b[38;5;28;01mexcept\u001b[39;00m ParentCommand \u001b[38;5;28;01mas\u001b[39;00m exc:\n\u001b[32m     44\u001b[39m     ns: \u001b[38;5;28mstr\u001b[39m = config[CONF][CONFIG_KEY_CHECKPOINT_NS]\n",
      "\u001b[36mFile \u001b[39m\u001b[32m~/master/projects/multi-agent-system/.venv/lib/python3.13/site-packages/langgraph/_internal/_runnable.py:657\u001b[39m, in \u001b[36mRunnableSeq.invoke\u001b[39m\u001b[34m(self, input, config, **kwargs)\u001b[39m\n\u001b[32m    655\u001b[39m     \u001b[38;5;66;03m# run in context\u001b[39;00m\n\u001b[32m    656\u001b[39m     \u001b[38;5;28;01mwith\u001b[39;00m set_config_context(config, run) \u001b[38;5;28;01mas\u001b[39;00m context:\n\u001b[32m--> \u001b[39m\u001b[32m657\u001b[39m         \u001b[38;5;28minput\u001b[39m = \u001b[43mcontext\u001b[49m\u001b[43m.\u001b[49m\u001b[43mrun\u001b[49m\u001b[43m(\u001b[49m\u001b[43mstep\u001b[49m\u001b[43m.\u001b[49m\u001b[43minvoke\u001b[49m\u001b[43m,\u001b[49m\u001b[43m \u001b[49m\u001b[38;5;28;43minput\u001b[39;49m\u001b[43m,\u001b[49m\u001b[43m \u001b[49m\u001b[43mconfig\u001b[49m\u001b[43m,\u001b[49m\u001b[43m \u001b[49m\u001b[43m*\u001b[49m\u001b[43m*\u001b[49m\u001b[43mkwargs\u001b[49m\u001b[43m)\u001b[49m\n\u001b[32m    658\u001b[39m \u001b[38;5;28;01melse\u001b[39;00m:\n\u001b[32m    659\u001b[39m     \u001b[38;5;28minput\u001b[39m = step.invoke(\u001b[38;5;28minput\u001b[39m, config)\n",
      "\u001b[36mFile \u001b[39m\u001b[32m~/master/projects/multi-agent-system/.venv/lib/python3.13/site-packages/langgraph/_internal/_runnable.py:401\u001b[39m, in \u001b[36mRunnableCallable.invoke\u001b[39m\u001b[34m(self, input, config, **kwargs)\u001b[39m\n\u001b[32m    399\u001b[39m         run_manager.on_chain_end(ret)\n\u001b[32m    400\u001b[39m \u001b[38;5;28;01melse\u001b[39;00m:\n\u001b[32m--> \u001b[39m\u001b[32m401\u001b[39m     ret = \u001b[38;5;28;43mself\u001b[39;49m\u001b[43m.\u001b[49m\u001b[43mfunc\u001b[49m\u001b[43m(\u001b[49m\u001b[43m*\u001b[49m\u001b[43margs\u001b[49m\u001b[43m,\u001b[49m\u001b[43m \u001b[49m\u001b[43m*\u001b[49m\u001b[43m*\u001b[49m\u001b[43mkwargs\u001b[49m\u001b[43m)\u001b[49m\n\u001b[32m    402\u001b[39m \u001b[38;5;28;01mif\u001b[39;00m \u001b[38;5;28mself\u001b[39m.recurse \u001b[38;5;129;01mand\u001b[39;00m \u001b[38;5;28misinstance\u001b[39m(ret, Runnable):\n\u001b[32m    403\u001b[39m     \u001b[38;5;28;01mreturn\u001b[39;00m ret.invoke(\u001b[38;5;28minput\u001b[39m, config)\n",
      "\u001b[36mFile \u001b[39m\u001b[32m~/master/projects/multi-agent-system/graph/node_critic.py:39\u001b[39m, in \u001b[36mnode_critic\u001b[39m\u001b[34m(state)\u001b[39m\n\u001b[32m     33\u001b[39m result = chain.invoke({\n\u001b[32m     34\u001b[39m     \u001b[33m\"\u001b[39m\u001b[33msummary\u001b[39m\u001b[33m\"\u001b[39m: state[\u001b[33m'\u001b[39m\u001b[33msummary\u001b[39m\u001b[33m'\u001b[39m],\n\u001b[32m     35\u001b[39m     \u001b[33m\"\u001b[39m\u001b[33menriched_venues\u001b[39m\u001b[33m\"\u001b[39m: state[\u001b[33m'\u001b[39m\u001b[33menriched_venues\u001b[39m\u001b[33m'\u001b[39m],\n\u001b[32m     36\u001b[39m     \u001b[33m\"\u001b[39m\u001b[33mNK\u001b[39m\u001b[33m\"\u001b[39m: state[\u001b[33m'\u001b[39m\u001b[33mNK\u001b[39m\u001b[33m'\u001b[39m],\n\u001b[32m     37\u001b[39m })\n\u001b[32m     38\u001b[39m \u001b[38;5;66;03m# print(result)\u001b[39;00m\n\u001b[32m---> \u001b[39m\u001b[32m39\u001b[39m \u001b[38;5;28;01mreturn\u001b[39;00m {\u001b[33m\"\u001b[39m\u001b[33mselected_venues\u001b[39m\u001b[33m\"\u001b[39m: \u001b[43mresult\u001b[49m\u001b[43m[\u001b[49m\u001b[33;43m'\u001b[39;49m\u001b[33;43mselected_venues\u001b[39;49m\u001b[33;43m'\u001b[39;49m\u001b[43m]\u001b[49m}\n",
      "\u001b[31mKeyError\u001b[39m: 'selected_venues'",
      "During task with name 'critic' and id '0c65fe53-99bf-15fc-3f65-34a72c31e779'"
     ]
    }
   ],
   "source": [
    "initial_state = {\n",
    "    \"summary\": \"Federated Learning is a powerful machine learning paradigm that enables collaborative training across devices. However, its distributed nature presents problems of systemic and statistical heterogeneity that generate training instability, thus requiring adaptive and dynamic solutions. Therefore, this paper presents the community with a new way to address these problems using language model agents. We demonstrate the reasons why LM agents should be used in FL, their advantages, and research opportunities. We also conduct two experiments to demonstrate the potential of a simple implementation and how it can be enhanced through sophisticated agent techniques.\",\n",
    "    \"keywords\": \"\",\n",
    "    \"search_tries\": 0,\n",
    "    \"raw_venues\": \"\",\n",
    "    \"enriched_venues\": \"\",\n",
    "    \"selected_venues\": \"\",\n",
    "    \"final_decision\": \"\",\n",
    "    \"NK\": 5,\n",
    "\n",
    "}\n",
    "result = app.invoke(initial_state)\n"
   ]
  },
  {
   "cell_type": "code",
   "execution_count": null,
   "id": "cca325ec",
   "metadata": {},
   "outputs": [],
   "source": [
    "Markdown(result['final_decision'])"
   ]
  },
  {
   "cell_type": "code",
   "execution_count": null,
   "id": "d3178bb0",
   "metadata": {},
   "outputs": [],
   "source": [
    "result['raw_venues']"
   ]
  },
  {
   "cell_type": "code",
   "execution_count": null,
   "id": "bc039374",
   "metadata": {},
   "outputs": [],
   "source": [
    "Markdown(result['agent_logs'][\"analyst\"][\"plan\"])"
   ]
  },
  {
   "cell_type": "code",
   "execution_count": null,
   "id": "4111ef4f",
   "metadata": {},
   "outputs": [],
   "source": [
    "Markdown(result['agent_logs'][\"analyst\"][\"reasoning\"])"
   ]
  },
  {
   "cell_type": "code",
   "execution_count": null,
   "id": "58970be6",
   "metadata": {},
   "outputs": [],
   "source": [
    "from langchain_community.document_loaders import WebBaseLoader\n",
    "from typing import List\n",
    "\n",
    "def get_url_content(urls: List[str]) -> str:\n",
    "    loader = WebBaseLoader(web_paths=urls)\n",
    "    raw_docs = loader.load()\n",
    "\n",
    "    docs = []\n",
    "    for d in raw_docs:\n",
    "        content = d.metadata['source']\n",
    "        print(f\"Fetched content from: {content}\")\n",
    "        # print(f\"Content length: {len(d.page_content)} characters\")\n",
    "        # print(\"-\" * 40)\n",
    "        # print(d.page_content[:500])  # Print first 500 characters\n",
    "        # print(\"\\n\" + \"=\" * 80 + \"\\n\")\n",
    "        content += d.page_content\n",
    "        docs.append(content)\n",
    "    return docs\n"
   ]
  },
  {
   "cell_type": "code",
   "execution_count": null,
   "id": "bae61b1f",
   "metadata": {},
   "outputs": [],
   "source": [
    "a = get_url_content([\"http://www.wikicfp.com/cfp/servlet/event.showcfp?eventid=190457&copyownerid=88612\", \"http://www.wikicfp.com/cfp/servlet/event.showcfp?eventid=190456&copyownerid=189704\"])"
   ]
  },
  {
   "cell_type": "code",
   "execution_count": null,
   "id": "b188beff",
   "metadata": {},
   "outputs": [],
   "source": [
    "Markdown(a[0])"
   ]
  },
  {
   "cell_type": "code",
   "execution_count": null,
   "id": "5521c838",
   "metadata": {},
   "outputs": [],
   "source": []
  }
 ],
 "metadata": {
  "kernelspec": {
   "display_name": ".venv",
   "language": "python",
   "name": "python3"
  },
  "language_info": {
   "codemirror_mode": {
    "name": "ipython",
    "version": 3
   },
   "file_extension": ".py",
   "mimetype": "text/x-python",
   "name": "python",
   "nbconvert_exporter": "python",
   "pygments_lexer": "ipython3",
   "version": "3.13.5"
  }
 },
 "nbformat": 4,
 "nbformat_minor": 5
}
