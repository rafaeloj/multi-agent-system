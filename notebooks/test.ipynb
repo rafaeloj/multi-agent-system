{
 "cells": [
  {
   "cell_type": "code",
   "execution_count": 1,
   "id": "af566646",
   "metadata": {},
   "outputs": [
    {
     "name": "stdout",
     "output_type": "stream",
     "text": [
      "/home/mahoraga/master/projects/multi-agent-system\n"
     ]
    }
   ],
   "source": [
    "# Change the current working directory to the project root\n",
    "%cd .."
   ]
  },
  {
   "cell_type": "code",
   "execution_count": 2,
   "id": "4a287625",
   "metadata": {},
   "outputs": [
    {
     "data": {
      "text/plain": [
       "True"
      ]
     },
     "execution_count": 2,
     "metadata": {},
     "output_type": "execute_result"
    }
   ],
   "source": [
    "from graph.node_analyst import node_analyst\n",
    "from graph.node_critic import node_critic\n",
    "from graph.node_presenter import node_presenter\n",
    "from graph.node_researcher import node_researcher\n",
    "from graph.node_scout import node_scout\n",
    "from graph.router_scout import router_scout\n",
    "from graph.state import AgentState\n",
    "from langgraph.graph import END, StateGraph\n",
    "from dotenv import load_dotenv\n",
    "import os\n",
    "from rich.markdown import Markdown\n",
    "load_dotenv()"
   ]
  },
  {
   "cell_type": "code",
   "execution_count": 3,
   "id": "abc37a69",
   "metadata": {},
   "outputs": [],
   "source": [
    "workflow = StateGraph(AgentState)\n",
    "workflow.add_node(\"analyst\", node_analyst)\n",
    "workflow.add_node(\"scout\", node_scout)\n",
    "workflow.add_node(\"researcher\", node_researcher)\n",
    "workflow.add_node(\"critic\", node_critic)\n",
    "workflow.add_node(\"presenter\", node_presenter)\n",
    "workflow.set_entry_point(\"analyst\")\n",
    "workflow.add_edge(\"analyst\", \"scout\")\n",
    "workflow.add_edge(\"researcher\", \"critic\")\n",
    "workflow.add_edge(\"critic\", \"presenter\")\n",
    "workflow.add_edge(\"presenter\", END)\n",
    "workflow.add_conditional_edges(\n",
    "    \"scout\",\n",
    "    router_scout,\n",
    "    { \"researcher\": \"researcher\", \"presenter\": \"presenter\" }\n",
    ")\n",
    "app = workflow.compile()"
   ]
  },
  {
   "cell_type": "code",
   "execution_count": 4,
   "id": "3e029579",
   "metadata": {},
   "outputs": [],
   "source": [
    "def save_graph(graph, xray=False, save_path=\"./figs/agent_graph.png\"):\n",
    "    try:\n",
    "        graph_png = graph.get_graph(xray=xray).draw_mermaid_png()\n",
    "        with open(save_path, \"wb\") as f:\n",
    "            f.write(graph_png)\n",
    "    except Exception as e:\n",
    "        import nest_asyncio\n",
    "        nest_asyncio.apply()\n",
    "        from langchain_core.runnables.graph import MermaidDrawMethod\n",
    "        graph_png = graph.get_graph().draw_mermaid_png(draw_method=MermaidDrawMethod.PYPPETEER)\n",
    "        with open(save_path, \"wb\") as f:\n",
    "            f.write(graph_png)"
   ]
  },
  {
   "cell_type": "code",
   "execution_count": 5,
   "id": "db8edd0f",
   "metadata": {},
   "outputs": [],
   "source": [
    "save_graph(app, xray=True, save_path=\"./figs/agent_graph_xray.png\")"
   ]
  },
  {
   "cell_type": "code",
   "execution_count": 6,
   "id": "902575fe",
   "metadata": {},
   "outputs": [
    {
     "name": "stdout",
     "output_type": "stream",
     "text": [
      "Node Analyst activated\n",
      "Node Scout activated\n",
      "Searching conferences with keyword: Federated Learning\n",
      "- Federated Learning\n",
      "- Language Model Agents\n",
      "- Collaborative Training\n",
      "Router Scout activated\n",
      "Decision: Max search tries reached. Send to Node Presenter\n",
      "Node Presenter activated\n",
      "No venues were selected.\n",
      "Final decision generated.\n"
     ]
    }
   ],
   "source": [
    "initial_state = {\n",
    "    \"summary\": \"Federated Learning is a powerful machine learning paradigm that enables collaborative training across devices. However, its distributed nature presents problems of systemic and statistical heterogeneity that generate training instability, thus requiring adaptive and dynamic solutions. Therefore, this paper presents the community with a new way to address these problems using language model agents. We demonstrate the reasons why LM agents should be used in FL, their advantages, and research opportunities. We also conduct two experiments to demonstrate the potential of a simple implementation and how it can be enhanced through sophisticated agent techniques.\",\n",
    "    \"keywords\": \"\",\n",
    "    \"search_tries\": 0,\n",
    "    \"raw_vanues\": \"\",\n",
    "    \"enriched_venues\": \"\",\n",
    "    \"selected_venues\": \"\",\n",
    "    \"final_decision\": \"\",\n",
    "\n",
    "}\n",
    "result = app.invoke(initial_state)\n"
   ]
  },
  {
   "cell_type": "code",
   "execution_count": 9,
   "id": "cca325ec",
   "metadata": {},
   "outputs": [
    {
     "data": {
      "text/html": [
       "<pre style=\"white-space:pre;overflow-x:auto;line-height:normal;font-family:Menlo,'DejaVu Sans Mono',consolas,'Courier New',monospace\">\n",
       "First, I need to make sure the message is polite and clear. The user is likely a researcher or someone involved in \n",
       "AI, so they might be looking for conferences related to federated learning, language model agents, or collaborative\n",
       "training. Since no conferences were found, I should explain that and maybe suggest alternative ways to find more   \n",
       "information.                                                                                                       \n",
       "\n",
       "I should start with a friendly opening, like \"Dear [Name]\" or \"Hi [Name]\". Then state that no relevant conferences \n",
       "were found. It's important to be concise but thorough. Maybe mention that the keywords were used effectively and   \n",
       "offer further assistance. Also, check if there's any specific conference they're interested in, but since they     \n",
       "didn't find any, I should keep it general.                                                                         \n",
       "\n",
       "\n",
       "Wait, the user might not know the exact conferences, so it's better to keep it general. Avoid any technical jargon.\n",
       "Make sure the tone is professional yet approachable. Let me structure it: greet, state the search results, explain \n",
       "the lack of conferences, offer help, and close politely. Double-check for any errors in the keywords and ensure the\n",
       "message is free of any markdown.                                                                                   \n",
       "\n",
       "Dear [Name],                                                                                                       \n",
       "\n",
       "After conducting a comprehensive search using the keywords <span style=\"font-weight: bold\">Federated Learning</span>, <span style=\"font-weight: bold\">Language Model Agents</span>, and          \n",
       "<span style=\"font-weight: bold\">Collaborative Training</span>, we found no relevant conferences related to these topics. Could you please let me know if  \n",
       "there are any specific conferences you're interested in, and I’d be happy to assist further?                       \n",
       "\n",
       "Best regards,                                                                                                      \n",
       "[Your Name]                                                                                                        \n",
       "[Your Position]                                                                                                    \n",
       "[Your Organization]                                                                                                \n",
       "\n",
       "<span style=\"color: #808000; text-decoration-color: #808000\">───────────────────────────────────────────────────────────────────────────────────────────────────────────────────</span>\n",
       "<span style=\"font-style: italic\">Note: If you have additional keywords or need help refining the search, feel free to provide them!</span>                 \n",
       "</pre>\n"
      ],
      "text/plain": [
       "\n",
       "First, I need to make sure the message is polite and clear. The user is likely a researcher or someone involved in \n",
       "AI, so they might be looking for conferences related to federated learning, language model agents, or collaborative\n",
       "training. Since no conferences were found, I should explain that and maybe suggest alternative ways to find more   \n",
       "information.                                                                                                       \n",
       "\n",
       "I should start with a friendly opening, like \"Dear [Name]\" or \"Hi [Name]\". Then state that no relevant conferences \n",
       "were found. It's important to be concise but thorough. Maybe mention that the keywords were used effectively and   \n",
       "offer further assistance. Also, check if there's any specific conference they're interested in, but since they     \n",
       "didn't find any, I should keep it general.                                                                         \n",
       "\n",
       "\n",
       "Wait, the user might not know the exact conferences, so it's better to keep it general. Avoid any technical jargon.\n",
       "Make sure the tone is professional yet approachable. Let me structure it: greet, state the search results, explain \n",
       "the lack of conferences, offer help, and close politely. Double-check for any errors in the keywords and ensure the\n",
       "message is free of any markdown.                                                                                   \n",
       "\n",
       "Dear [Name],                                                                                                       \n",
       "\n",
       "After conducting a comprehensive search using the keywords \u001b[1mFederated Learning\u001b[0m, \u001b[1mLanguage Model Agents\u001b[0m, and          \n",
       "\u001b[1mCollaborative Training\u001b[0m, we found no relevant conferences related to these topics. Could you please let me know if  \n",
       "there are any specific conferences you're interested in, and I’d be happy to assist further?                       \n",
       "\n",
       "Best regards,                                                                                                      \n",
       "[Your Name]                                                                                                        \n",
       "[Your Position]                                                                                                    \n",
       "[Your Organization]                                                                                                \n",
       "\n",
       "\u001b[33m───────────────────────────────────────────────────────────────────────────────────────────────────────────────────\u001b[0m\n",
       "\u001b[3mNote: If you have additional keywords or need help refining the search, feel free to provide them!\u001b[0m                 \n"
      ]
     },
     "execution_count": 9,
     "metadata": {},
     "output_type": "execute_result"
    }
   ],
   "source": [
    "Markdown(result['final_decision'])"
   ]
  },
  {
   "cell_type": "code",
   "execution_count": 10,
   "id": "bc039374",
   "metadata": {},
   "outputs": [
    {
     "data": {
      "text/plain": [
       "['Federated Learning', 'Language Model Agents', 'Collaborative Training']"
      ]
     },
     "execution_count": 10,
     "metadata": {},
     "output_type": "execute_result"
    }
   ],
   "source": [
    "result['keywords']"
   ]
  },
  {
   "cell_type": "code",
   "execution_count": null,
   "id": "4111ef4f",
   "metadata": {},
   "outputs": [],
   "source": []
  }
 ],
 "metadata": {
  "kernelspec": {
   "display_name": ".venv",
   "language": "python",
   "name": "python3"
  },
  "language_info": {
   "codemirror_mode": {
    "name": "ipython",
    "version": 3
   },
   "file_extension": ".py",
   "mimetype": "text/x-python",
   "name": "python",
   "nbconvert_exporter": "python",
   "pygments_lexer": "ipython3",
   "version": "3.13.5"
  }
 },
 "nbformat": 4,
 "nbformat_minor": 5
}
